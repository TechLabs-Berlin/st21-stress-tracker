{
 "cells": [
  {
   "cell_type": "markdown",
   "metadata": {},
   "source": [
    "# STRESS TRACKER PROJECT"
   ]
  },
  {
   "cell_type": "markdown",
   "metadata": {},
   "source": [
    "The raw csv file can be downloaded from [here:](https://drive.google.com/file/d/1uUAwB_qQy4Kk1BnJaNx_3S8rwKnc-5jb/view?usp=sharing)"
   ]
  },
  {
   "cell_type": "markdown",
   "metadata": {},
   "source": [
    "## Load the data"
   ]
  },
  {
   "cell_type": "code",
   "execution_count": 1,
   "metadata": {},
   "outputs": [],
   "source": [
    "import pandas as pd\n",
    "import numpy as np\n",
    "import datetime\n",
    "\n",
    "%matplotlib inline\n",
    "import matplotlib.pyplot as plt\n",
    "import seaborn as sns"
   ]
  },
  {
   "cell_type": "code",
   "execution_count": 2,
   "metadata": {},
   "outputs": [],
   "source": [
    "from sklearn.model_selection import train_test_split\n",
    "from sklearn.preprocessing import StandardScaler\n",
    "from sklearn.pipeline import Pipeline\n",
    "from sklearn.linear_model import LogisticRegression\n",
    "from sklearn.ensemble import RandomForestClassifier\n",
    "from sklearn.svm import SVC\n",
    "from sklearn.tree import DecisionTreeClassifier\n",
    "from sklearn.ensemble import GradientBoostingClassifier\n",
    "from sklearn.model_selection import GridSearchCV\n",
    "from sklearn import metrics\n",
    "from sklearn.metrics import accuracy_score, f1_score, precision_score, recall_score\n",
    "from sklearn.metrics import classification_report \n",
    "from sklearn.metrics import roc_curve\n",
    "from sklearn.metrics import roc_auc_score\n",
    "from sklearn.metrics import confusion_matrix\n"
   ]
  },
  {
   "cell_type": "code",
   "execution_count": 4,
   "metadata": {
    "scrolled": true
   },
   "outputs": [],
   "source": [
    "df = pd.read_csv('hrv_combined.csv', header=0)"
   ]
  },
  {
   "cell_type": "code",
   "execution_count": 5,
   "metadata": {
    "scrolled": false
   },
   "outputs": [
    {
     "data": {
      "text/html": [
       "<div>\n",
       "<style scoped>\n",
       "    .dataframe tbody tr th:only-of-type {\n",
       "        vertical-align: middle;\n",
       "    }\n",
       "\n",
       "    .dataframe tbody tr th {\n",
       "        vertical-align: top;\n",
       "    }\n",
       "\n",
       "    .dataframe thead th {\n",
       "        text-align: right;\n",
       "    }\n",
       "</style>\n",
       "<table border=\"1\" class=\"dataframe\">\n",
       "  <thead>\n",
       "    <tr style=\"text-align: right;\">\n",
       "      <th></th>\n",
       "      <th>MEAN_RR</th>\n",
       "      <th>MEDIAN_RR</th>\n",
       "      <th>SDRR</th>\n",
       "      <th>RMSSD</th>\n",
       "      <th>SDSD</th>\n",
       "      <th>SDRR_RMSSD</th>\n",
       "      <th>HR</th>\n",
       "      <th>pNN25</th>\n",
       "      <th>pNN50</th>\n",
       "      <th>SD1</th>\n",
       "      <th>...</th>\n",
       "      <th>HF_PCT</th>\n",
       "      <th>HF_NU</th>\n",
       "      <th>TP</th>\n",
       "      <th>LF_HF</th>\n",
       "      <th>HF_LF</th>\n",
       "      <th>sampen</th>\n",
       "      <th>higuci</th>\n",
       "      <th>condition</th>\n",
       "      <th>NasaTLX</th>\n",
       "      <th>subject_id</th>\n",
       "    </tr>\n",
       "  </thead>\n",
       "  <tbody>\n",
       "    <tr>\n",
       "      <td>0</td>\n",
       "      <td>930.167873</td>\n",
       "      <td>953.426395</td>\n",
       "      <td>103.287843</td>\n",
       "      <td>11.449918</td>\n",
       "      <td>11.447910</td>\n",
       "      <td>9.020837</td>\n",
       "      <td>65.384098</td>\n",
       "      <td>3.8</td>\n",
       "      <td>0.0</td>\n",
       "      <td>8.097596</td>\n",
       "      <td>...</td>\n",
       "      <td>0.110988</td>\n",
       "      <td>0.302774</td>\n",
       "      <td>1822.303784</td>\n",
       "      <td>329.279348</td>\n",
       "      <td>0.003037</td>\n",
       "      <td>2.061558</td>\n",
       "      <td>1.103460</td>\n",
       "      <td>no stress</td>\n",
       "      <td>50.7</td>\n",
       "      <td>1</td>\n",
       "    </tr>\n",
       "    <tr>\n",
       "      <td>1</td>\n",
       "      <td>929.942240</td>\n",
       "      <td>953.332805</td>\n",
       "      <td>103.350393</td>\n",
       "      <td>11.458184</td>\n",
       "      <td>11.455990</td>\n",
       "      <td>9.019788</td>\n",
       "      <td>65.401367</td>\n",
       "      <td>3.8</td>\n",
       "      <td>0.0</td>\n",
       "      <td>8.103312</td>\n",
       "      <td>...</td>\n",
       "      <td>0.112064</td>\n",
       "      <td>0.305684</td>\n",
       "      <td>1827.365867</td>\n",
       "      <td>326.135414</td>\n",
       "      <td>0.003066</td>\n",
       "      <td>2.061202</td>\n",
       "      <td>1.103936</td>\n",
       "      <td>no stress</td>\n",
       "      <td>50.7</td>\n",
       "      <td>1</td>\n",
       "    </tr>\n",
       "    <tr>\n",
       "      <td>2</td>\n",
       "      <td>929.702919</td>\n",
       "      <td>953.160325</td>\n",
       "      <td>103.445345</td>\n",
       "      <td>11.472303</td>\n",
       "      <td>11.469888</td>\n",
       "      <td>9.016964</td>\n",
       "      <td>65.420315</td>\n",
       "      <td>3.8</td>\n",
       "      <td>0.0</td>\n",
       "      <td>8.113142</td>\n",
       "      <td>...</td>\n",
       "      <td>0.113298</td>\n",
       "      <td>0.308767</td>\n",
       "      <td>1830.955539</td>\n",
       "      <td>322.868345</td>\n",
       "      <td>0.003097</td>\n",
       "      <td>2.060601</td>\n",
       "      <td>1.104427</td>\n",
       "      <td>no stress</td>\n",
       "      <td>50.7</td>\n",
       "      <td>1</td>\n",
       "    </tr>\n",
       "    <tr>\n",
       "      <td>3</td>\n",
       "      <td>929.454930</td>\n",
       "      <td>953.008650</td>\n",
       "      <td>103.573376</td>\n",
       "      <td>11.481353</td>\n",
       "      <td>11.478777</td>\n",
       "      <td>9.021008</td>\n",
       "      <td>65.440612</td>\n",
       "      <td>3.8</td>\n",
       "      <td>0.0</td>\n",
       "      <td>8.119430</td>\n",
       "      <td>...</td>\n",
       "      <td>0.114665</td>\n",
       "      <td>0.311914</td>\n",
       "      <td>1832.686584</td>\n",
       "      <td>319.601110</td>\n",
       "      <td>0.003129</td>\n",
       "      <td>2.060154</td>\n",
       "      <td>1.104685</td>\n",
       "      <td>no stress</td>\n",
       "      <td>50.7</td>\n",
       "      <td>1</td>\n",
       "    </tr>\n",
       "    <tr>\n",
       "      <td>4</td>\n",
       "      <td>929.207582</td>\n",
       "      <td>952.938925</td>\n",
       "      <td>103.716950</td>\n",
       "      <td>11.481305</td>\n",
       "      <td>11.478731</td>\n",
       "      <td>9.033551</td>\n",
       "      <td>65.461193</td>\n",
       "      <td>3.8</td>\n",
       "      <td>0.0</td>\n",
       "      <td>8.119397</td>\n",
       "      <td>...</td>\n",
       "      <td>0.116132</td>\n",
       "      <td>0.315038</td>\n",
       "      <td>1832.562407</td>\n",
       "      <td>316.421928</td>\n",
       "      <td>0.003160</td>\n",
       "      <td>2.059743</td>\n",
       "      <td>1.104466</td>\n",
       "      <td>no stress</td>\n",
       "      <td>50.7</td>\n",
       "      <td>1</td>\n",
       "    </tr>\n",
       "  </tbody>\n",
       "</table>\n",
       "<p>5 rows × 37 columns</p>\n",
       "</div>"
      ],
      "text/plain": [
       "      MEAN_RR   MEDIAN_RR        SDRR      RMSSD       SDSD  SDRR_RMSSD  \\\n",
       "0  930.167873  953.426395  103.287843  11.449918  11.447910    9.020837   \n",
       "1  929.942240  953.332805  103.350393  11.458184  11.455990    9.019788   \n",
       "2  929.702919  953.160325  103.445345  11.472303  11.469888    9.016964   \n",
       "3  929.454930  953.008650  103.573376  11.481353  11.478777    9.021008   \n",
       "4  929.207582  952.938925  103.716950  11.481305  11.478731    9.033551   \n",
       "\n",
       "          HR  pNN25  pNN50       SD1  ...    HF_PCT     HF_NU           TP  \\\n",
       "0  65.384098    3.8    0.0  8.097596  ...  0.110988  0.302774  1822.303784   \n",
       "1  65.401367    3.8    0.0  8.103312  ...  0.112064  0.305684  1827.365867   \n",
       "2  65.420315    3.8    0.0  8.113142  ...  0.113298  0.308767  1830.955539   \n",
       "3  65.440612    3.8    0.0  8.119430  ...  0.114665  0.311914  1832.686584   \n",
       "4  65.461193    3.8    0.0  8.119397  ...  0.116132  0.315038  1832.562407   \n",
       "\n",
       "        LF_HF     HF_LF    sampen    higuci  condition  NasaTLX  subject_id  \n",
       "0  329.279348  0.003037  2.061558  1.103460  no stress     50.7           1  \n",
       "1  326.135414  0.003066  2.061202  1.103936  no stress     50.7           1  \n",
       "2  322.868345  0.003097  2.060601  1.104427  no stress     50.7           1  \n",
       "3  319.601110  0.003129  2.060154  1.104685  no stress     50.7           1  \n",
       "4  316.421928  0.003160  2.059743  1.104466  no stress     50.7           1  \n",
       "\n",
       "[5 rows x 37 columns]"
      ]
     },
     "execution_count": 5,
     "metadata": {},
     "output_type": "execute_result"
    }
   ],
   "source": [
    "df.head()"
   ]
  },
  {
   "cell_type": "markdown",
   "metadata": {},
   "source": [
    "## Preliminary Exploratory Data Analysis"
   ]
  },
  {
   "cell_type": "markdown",
   "metadata": {},
   "source": [
    "Drop `'NasaTLX'`column. This column represents participants' self-reported stress and mental load, thus is a target variable and requires regression prediction. The aim in this notebook is to evaluate binary class classification models to predict whether a person is stressed or not based on Heart Rate Variability (HRV) and other extracted features."
   ]
  },
  {
   "cell_type": "code",
   "execution_count": 6,
   "metadata": {},
   "outputs": [],
   "source": [
    "df.drop('NasaTLX', axis=1, inplace=True)"
   ]
  },
  {
   "cell_type": "code",
   "execution_count": 7,
   "metadata": {},
   "outputs": [
    {
     "data": {
      "text/plain": [
       "(391638, 36)"
      ]
     },
     "execution_count": 7,
     "metadata": {},
     "output_type": "execute_result"
    }
   ],
   "source": [
    "df.shape"
   ]
  },
  {
   "cell_type": "code",
   "execution_count": null,
   "metadata": {},
   "outputs": [],
   "source": [
    "df.info()"
   ]
  },
  {
   "cell_type": "code",
   "execution_count": null,
   "metadata": {},
   "outputs": [],
   "source": [
    "# check data types of the columns\n",
    "df.dtypes"
   ]
  },
  {
   "cell_type": "markdown",
   "metadata": {},
   "source": [
    "The dataset contains only float64 objects."
   ]
  },
  {
   "cell_type": "code",
   "execution_count": null,
   "metadata": {
    "scrolled": true
   },
   "outputs": [],
   "source": [
    "# Create table for missing data analysis\n",
    "def missing_values_table(df):\n",
    "    total = df.isnull().sum().sort_values(ascending=False)\n",
    "    percent = (df.isnull().sum()/df.isnull().count()).sort_values(ascending=False)\n",
    "    missing_data = pd.concat([total, percent], axis=1, keys=['Total', 'Percent'])\n",
    "    return missing_data\n",
    "\n",
    "missing_values_table(df)"
   ]
  },
  {
   "cell_type": "markdown",
   "metadata": {},
   "source": [
    "There are no missing values"
   ]
  },
  {
   "cell_type": "code",
   "execution_count": null,
   "metadata": {
    "scrolled": false
   },
   "outputs": [],
   "source": [
    "# Count the distribution of class values\n",
    "df['condition'].value_counts()"
   ]
  },
  {
   "cell_type": "code",
   "execution_count": null,
   "metadata": {},
   "outputs": [],
   "source": [
    "# Plot the distribution of class values\n",
    "df['condition'].value_counts().plot(kind='bar')"
   ]
  },
  {
   "cell_type": "markdown",
   "metadata": {},
   "source": [
    "There are three classes in the target variable. Since we are doing two class-classification (stressed vs not stressed), we combine `interruption` and `time pressure` conditions into one -- `stress` label."
   ]
  },
  {
   "cell_type": "code",
   "execution_count": 8,
   "metadata": {},
   "outputs": [],
   "source": [
    "def make_binary(label):\n",
    "    if label == 'interruption' or label == 'time pressure':\n",
    "        return 'stress'\n",
    "    else:\n",
    "        return 'no stress'\n",
    "    \n",
    "df['condition'] = df['condition'].apply(make_binary)"
   ]
  },
  {
   "cell_type": "code",
   "execution_count": 9,
   "metadata": {},
   "outputs": [
    {
     "data": {
      "text/plain": [
       "no stress    54.233757\n",
       "stress       45.766243\n",
       "Name: condition, dtype: float64"
      ]
     },
     "execution_count": 9,
     "metadata": {},
     "output_type": "execute_result"
    }
   ],
   "source": [
    "df['condition'].value_counts(normalize=True) * 100"
   ]
  },
  {
   "cell_type": "code",
   "execution_count": 74,
   "metadata": {},
   "outputs": [
    {
     "data": {
      "image/png": "[encoded data removed]",
      "text/plain": [
       "<Figure size 360x504 with 1 Axes>"
      ]
     },
     "metadata": {
      "needs_background": "light"
     },
     "output_type": "display_data"
    }
   ],
   "source": [
    "plt.rcParams[\"figure.figsize\"] = (5,7)\n",
    "df['condition'].value_counts().plot(kind='bar')\n",
    "plt.title('Distribution of Labels', fontsize=16)\n",
    "plt.xlabel('Label', fontsize=14)\n",
    "plt.ylabel('Number of Observations', fontsize=14)\n",
    "plt.show()"
   ]
  },
  {
   "cell_type": "markdown",
   "metadata": {},
   "source": [
    "Looks like the `condition` feature is balanced because the number of values does not differ much (55% corresponds to `no stress` and 45% corresponds to `stress`). "
   ]
  },
  {
   "cell_type": "markdown",
   "metadata": {},
   "source": [
    "A quick way to get a feel of the type of data is to plot a histogram for each numerical feature. We don't want to plot the `subject_id` column, so drop it for now. "
   ]
  },
  {
   "cell_type": "code",
   "execution_count": null,
   "metadata": {},
   "outputs": [],
   "source": [
    "df.drop('subject_id', axis = 1).hist(bins=50, figsize=(20,15))\n",
    "plt.show()"
   ]
  },
  {
   "cell_type": "markdown",
   "metadata": {},
   "source": [
    "Some histograms are tail heavy: they extend much farther to the right. This may make it a bit harder for some Machine Learning algorithms to detect patterns. We will transform these features in the training data to have more bell-shaped distributions."
   ]
  },
  {
   "cell_type": "markdown",
   "metadata": {},
   "source": [
    "We try to learn more about the skewness by by running the summary statistics."
   ]
  },
  {
   "cell_type": "code",
   "execution_count": null,
   "metadata": {},
   "outputs": [],
   "source": [
    "df.describe()"
   ]
  },
  {
   "cell_type": "markdown",
   "metadata": {},
   "source": [
    "The descriptive statistics shows the basic quantitative information about the features of the data. Looking at the above table we can say that min and max values of some features, namely, `SDRR`, `SDRR_RMSSD`, `HR`, `pNN25`, etc. vary widely. It indicates that there are outliers in these features."
   ]
  },
  {
   "cell_type": "markdown",
   "metadata": {},
   "source": [
    "We identify outliers using IQR method for all features and remove them."
   ]
  },
  {
   "cell_type": "code",
   "execution_count": 14,
   "metadata": {},
   "outputs": [
    {
     "data": {
      "text/html": [
       "<div>\n",
       "<style scoped>\n",
       "    .dataframe tbody tr th:only-of-type {\n",
       "        vertical-align: middle;\n",
       "    }\n",
       "\n",
       "    .dataframe tbody tr th {\n",
       "        vertical-align: top;\n",
       "    }\n",
       "\n",
       "    .dataframe thead th {\n",
       "        text-align: right;\n",
       "    }\n",
       "</style>\n",
       "<table border=\"1\" class=\"dataframe\">\n",
       "  <thead>\n",
       "    <tr style=\"text-align: right;\">\n",
       "      <th></th>\n",
       "      <th>MEAN_RR</th>\n",
       "      <th>MEDIAN_RR</th>\n",
       "      <th>SDRR</th>\n",
       "      <th>RMSSD</th>\n",
       "      <th>SDSD</th>\n",
       "      <th>SDRR_RMSSD</th>\n",
       "      <th>HR</th>\n",
       "      <th>pNN25</th>\n",
       "      <th>pNN50</th>\n",
       "      <th>SD1</th>\n",
       "      <th>...</th>\n",
       "      <th>HF</th>\n",
       "      <th>HF_PCT</th>\n",
       "      <th>HF_NU</th>\n",
       "      <th>TP</th>\n",
       "      <th>LF_HF</th>\n",
       "      <th>HF_LF</th>\n",
       "      <th>sampen</th>\n",
       "      <th>higuci</th>\n",
       "      <th>condition</th>\n",
       "      <th>subject_id</th>\n",
       "    </tr>\n",
       "  </thead>\n",
       "  <tbody>\n",
       "    <tr>\n",
       "      <td>0</td>\n",
       "      <td>882.857822</td>\n",
       "      <td>885.601160</td>\n",
       "      <td>100.136326</td>\n",
       "      <td>11.099879</td>\n",
       "      <td>11.099269</td>\n",
       "      <td>9.021389</td>\n",
       "      <td>68.869229</td>\n",
       "      <td>3.333333</td>\n",
       "      <td>0.0</td>\n",
       "      <td>7.850988</td>\n",
       "      <td>...</td>\n",
       "      <td>3.994266</td>\n",
       "      <td>0.196500</td>\n",
       "      <td>0.653933</td>\n",
       "      <td>2032.709271</td>\n",
       "      <td>151.920847</td>\n",
       "      <td>0.006582</td>\n",
       "      <td>2.186021</td>\n",
       "      <td>1.098945</td>\n",
       "      <td>no stress</td>\n",
       "      <td>1</td>\n",
       "    </tr>\n",
       "    <tr>\n",
       "      <td>1</td>\n",
       "      <td>882.742205</td>\n",
       "      <td>885.185075</td>\n",
       "      <td>100.037049</td>\n",
       "      <td>11.097288</td>\n",
       "      <td>11.096618</td>\n",
       "      <td>9.014549</td>\n",
       "      <td>68.876681</td>\n",
       "      <td>3.333333</td>\n",
       "      <td>0.0</td>\n",
       "      <td>7.849112</td>\n",
       "      <td>...</td>\n",
       "      <td>4.048089</td>\n",
       "      <td>0.198387</td>\n",
       "      <td>0.655722</td>\n",
       "      <td>2040.497451</td>\n",
       "      <td>151.503616</td>\n",
       "      <td>0.006601</td>\n",
       "      <td>2.186306</td>\n",
       "      <td>1.098408</td>\n",
       "      <td>no stress</td>\n",
       "      <td>1</td>\n",
       "    </tr>\n",
       "    <tr>\n",
       "      <td>2</td>\n",
       "      <td>882.616666</td>\n",
       "      <td>884.976565</td>\n",
       "      <td>99.926600</td>\n",
       "      <td>11.096779</td>\n",
       "      <td>11.096014</td>\n",
       "      <td>9.005010</td>\n",
       "      <td>68.884753</td>\n",
       "      <td>3.333333</td>\n",
       "      <td>0.0</td>\n",
       "      <td>7.848685</td>\n",
       "      <td>...</td>\n",
       "      <td>4.099003</td>\n",
       "      <td>0.200612</td>\n",
       "      <td>0.657385</td>\n",
       "      <td>2043.246671</td>\n",
       "      <td>151.117787</td>\n",
       "      <td>0.006617</td>\n",
       "      <td>2.186655</td>\n",
       "      <td>1.098395</td>\n",
       "      <td>no stress</td>\n",
       "      <td>1</td>\n",
       "    </tr>\n",
       "    <tr>\n",
       "      <td>3</td>\n",
       "      <td>882.478556</td>\n",
       "      <td>884.925510</td>\n",
       "      <td>99.808263</td>\n",
       "      <td>11.100504</td>\n",
       "      <td>11.099607</td>\n",
       "      <td>8.991327</td>\n",
       "      <td>68.893698</td>\n",
       "      <td>3.333333</td>\n",
       "      <td>0.0</td>\n",
       "      <td>7.851226</td>\n",
       "      <td>...</td>\n",
       "      <td>4.145079</td>\n",
       "      <td>0.203098</td>\n",
       "      <td>0.658844</td>\n",
       "      <td>2040.927255</td>\n",
       "      <td>150.781064</td>\n",
       "      <td>0.006632</td>\n",
       "      <td>2.186893</td>\n",
       "      <td>1.099175</td>\n",
       "      <td>no stress</td>\n",
       "      <td>1</td>\n",
       "    </tr>\n",
       "    <tr>\n",
       "      <td>4</td>\n",
       "      <td>882.326764</td>\n",
       "      <td>884.896520</td>\n",
       "      <td>99.686825</td>\n",
       "      <td>11.108273</td>\n",
       "      <td>11.107219</td>\n",
       "      <td>8.974106</td>\n",
       "      <td>68.903676</td>\n",
       "      <td>3.333333</td>\n",
       "      <td>0.0</td>\n",
       "      <td>7.856611</td>\n",
       "      <td>...</td>\n",
       "      <td>4.184770</td>\n",
       "      <td>0.205788</td>\n",
       "      <td>0.660040</td>\n",
       "      <td>2033.536475</td>\n",
       "      <td>150.506030</td>\n",
       "      <td>0.006644</td>\n",
       "      <td>2.187106</td>\n",
       "      <td>1.100390</td>\n",
       "      <td>no stress</td>\n",
       "      <td>1</td>\n",
       "    </tr>\n",
       "  </tbody>\n",
       "</table>\n",
       "<p>5 rows × 36 columns</p>\n",
       "</div>"
      ],
      "text/plain": [
       "      MEAN_RR   MEDIAN_RR        SDRR      RMSSD       SDSD  SDRR_RMSSD  \\\n",
       "0  882.857822  885.601160  100.136326  11.099879  11.099269    9.021389   \n",
       "1  882.742205  885.185075  100.037049  11.097288  11.096618    9.014549   \n",
       "2  882.616666  884.976565   99.926600  11.096779  11.096014    9.005010   \n",
       "3  882.478556  884.925510   99.808263  11.100504  11.099607    8.991327   \n",
       "4  882.326764  884.896520   99.686825  11.108273  11.107219    8.974106   \n",
       "\n",
       "          HR     pNN25  pNN50       SD1  ...        HF    HF_PCT     HF_NU  \\\n",
       "0  68.869229  3.333333    0.0  7.850988  ...  3.994266  0.196500  0.653933   \n",
       "1  68.876681  3.333333    0.0  7.849112  ...  4.048089  0.198387  0.655722   \n",
       "2  68.884753  3.333333    0.0  7.848685  ...  4.099003  0.200612  0.657385   \n",
       "3  68.893698  3.333333    0.0  7.851226  ...  4.145079  0.203098  0.658844   \n",
       "4  68.903676  3.333333    0.0  7.856611  ...  4.184770  0.205788  0.660040   \n",
       "\n",
       "            TP       LF_HF     HF_LF    sampen    higuci  condition  \\\n",
       "0  2032.709271  151.920847  0.006582  2.186021  1.098945  no stress   \n",
       "1  2040.497451  151.503616  0.006601  2.186306  1.098408  no stress   \n",
       "2  2043.246671  151.117787  0.006617  2.186655  1.098395  no stress   \n",
       "3  2040.927255  150.781064  0.006632  2.186893  1.099175  no stress   \n",
       "4  2033.536475  150.506030  0.006644  2.187106  1.100390  no stress   \n",
       "\n",
       "   subject_id  \n",
       "0           1  \n",
       "1           1  \n",
       "2           1  \n",
       "3           1  \n",
       "4           1  \n",
       "\n",
       "[5 rows x 36 columns]"
      ]
     },
     "execution_count": 14,
     "metadata": {},
     "output_type": "execute_result"
    }
   ],
   "source": [
    "q1 = df.quantile(0.25)\n",
    "q3 = df.quantile(0.75)\n",
    "iqr = q3 - q1\n",
    "\n",
    "# Remove the outliers\n",
    "df = df[~((df < (q1 - 1.5 * iqr))|(df > (q3 + 1.5 * iqr))).any(axis=1)]\n",
    "df = df.reset_index(drop=True)\n",
    "df.head()"
   ]
  },
  {
   "cell_type": "code",
   "execution_count": 15,
   "metadata": {},
   "outputs": [
    {
     "data": {
      "text/plain": [
       "(203241, 36)"
      ]
     },
     "execution_count": 15,
     "metadata": {},
     "output_type": "execute_result"
    }
   ],
   "source": [
    "df.shape"
   ]
  },
  {
   "cell_type": "markdown",
   "metadata": {},
   "source": [
    "After removing outliers the dataset has 203241 rows. 188397 rows were identified as outliers."
   ]
  },
  {
   "cell_type": "code",
   "execution_count": null,
   "metadata": {},
   "outputs": [],
   "source": [
    "df.drop('subject_id', axis = 1).hist(bins=50, figsize=(20,15))\n",
    "plt.show()"
   ]
  },
  {
   "cell_type": "markdown",
   "metadata": {},
   "source": [
    "After removing outliers, we see that the skewed distributions now are more bell-shaped. The data is large enough.\n",
    "No outliers and missing values exist in the dataset. The proportion of labels is relatively balanced. Now everything is prepared for data preprocessing."
   ]
  },
  {
   "cell_type": "markdown",
   "metadata": {},
   "source": [
    "We save column names as a list to use them further for feature selection excluding `subject_id`."
   ]
  },
  {
   "cell_type": "code",
   "execution_count": 16,
   "metadata": {},
   "outputs": [
    {
     "name": "stdout",
     "output_type": "stream",
     "text": [
      "34\n",
      "Index(['MEAN_RR', 'MEDIAN_RR', 'SDRR', 'RMSSD', 'SDSD', 'SDRR_RMSSD', 'HR',\n",
      "       'pNN25', 'pNN50', 'SD1', 'SD2', 'KURT', 'SKEW', 'MEAN_REL_RR',\n",
      "       'MEDIAN_REL_RR', 'SDRR_REL_RR', 'RMSSD_REL_RR', 'SDSD_REL_RR',\n",
      "       'SDRR_RMSSD_REL_RR', 'KURT_REL_RR', 'SKEW_REL_RR', 'VLF', 'VLF_PCT',\n",
      "       'LF', 'LF_PCT', 'LF_NU', 'HF', 'HF_PCT', 'HF_NU', 'TP', 'LF_HF',\n",
      "       'HF_LF', 'sampen', 'higuci'],\n",
      "      dtype='object')\n"
     ]
    }
   ],
   "source": [
    "col_names = df[df.columns[~df.columns.isin(['subject_id', 'condition'])]]\n",
    "col_names = col_names.columns\n",
    "print(len(col_names))\n",
    "print(col_names)"
   ]
  },
  {
   "cell_type": "markdown",
   "metadata": {},
   "source": [
    "## Data Preprocessing"
   ]
  },
  {
   "cell_type": "markdown",
   "metadata": {},
   "source": [
    "Before transforming the data, we need to split it into training and test."
   ]
  },
  {
   "cell_type": "code",
   "execution_count": 17,
   "metadata": {},
   "outputs": [],
   "source": [
    "X = df[df.columns[~df.columns.isin(['subject_id', 'condition'])]]\n",
    "y = df['condition']\n",
    "\n",
    "X_train, X_test, y_train, y_test = train_test_split(X, y, test_size=0.30, random_state=42)"
   ]
  },
  {
   "cell_type": "code",
   "execution_count": 18,
   "metadata": {},
   "outputs": [
    {
     "name": "stdout",
     "output_type": "stream",
     "text": [
      "Total: 203241\n",
      "Training shape: (142268, 34)\n",
      "Testing shape: (60973, 34)\n",
      "Training %: 69.99965558130495\n",
      "Testing %: 30.000344418695047\n"
     ]
    }
   ],
   "source": [
    "# Print the train-test ratio:\n",
    "\n",
    "print('Total:', len(df))\n",
    "print('Training shape:', X_train.shape)\n",
    "print('Testing shape:', X_test.shape)\n",
    "print('Training %:', (len(X_train) / len(df)) * 100)\n",
    "print('Testing %:', (len(X_test) / len(df)) * 100)"
   ]
  },
  {
   "cell_type": "markdown",
   "metadata": {},
   "source": [
    "The features of the dataset have different unit of measures and their range of values vary widely, therefore scaling is necessary.\n",
    "We will use `StandardScaler()` for transformation."
   ]
  },
  {
   "cell_type": "code",
   "execution_count": 19,
   "metadata": {},
   "outputs": [],
   "source": [
    "scaler = StandardScaler()"
   ]
  },
  {
   "cell_type": "code",
   "execution_count": 20,
   "metadata": {},
   "outputs": [],
   "source": [
    "X_train_transformed = scaler.fit_transform(X_train)\n",
    "X_test_transformed = scaler.fit_transform(X_test)"
   ]
  },
  {
   "cell_type": "markdown",
   "metadata": {},
   "source": [
    "## Build a simple Linear Regression model as a baseline"
   ]
  },
  {
   "cell_type": "code",
   "execution_count": 21,
   "metadata": {},
   "outputs": [],
   "source": [
    "# baseline\n",
    "logreg = Pipeline([\n",
    "    ('preprocessor', scaler),    \n",
    "    ('classifier', LogisticRegression(solver='lbfgs', max_iter=400)),\n",
    "])"
   ]
  },
  {
   "cell_type": "code",
   "execution_count": 22,
   "metadata": {},
   "outputs": [
    {
     "name": "stdout",
     "output_type": "stream",
     "text": [
      "Accuracy: 0.695\n"
     ]
    }
   ],
   "source": [
    "logreg.fit(X_train, y_train)\n",
    "print(\"Accuracy: %.3f\" % logreg.score(X_train, y_train))"
   ]
  },
  {
   "cell_type": "code",
   "execution_count": 23,
   "metadata": {},
   "outputs": [
    {
     "name": "stdout",
     "output_type": "stream",
     "text": [
      "Accuracy: 0.693\n"
     ]
    }
   ],
   "source": [
    "logreg.fit(X_test, y_test)\n",
    "print(\"Accuracy: %.3f\" % logreg.score(X_test, y_test))"
   ]
  },
  {
   "cell_type": "markdown",
   "metadata": {},
   "source": [
    "The Logistic Regression model achieved 70% accuracy on the training and 69.3% on the test data using all features. However, there are correlated and irrelevant features. We need to select only those that contribute most to the prediction."
   ]
  },
  {
   "cell_type": "markdown",
   "metadata": {},
   "source": [
    "## Feature Selection"
   ]
  },
  {
   "cell_type": "markdown",
   "metadata": {},
   "source": [
    "To improve the performance of models, we need to exclude the redundant or highly correlated features. According to this [article](https://machinelearningmastery.com/feature-selection-with-real-and-categorical-data/), selecting the best features based on univariate statistical tests is best for a classification problem that with numerical inputs, which is our case. \n",
    "\n",
    "We use `SelectKBest` method that selects the best features based on the ANOVA test for feature selection. "
   ]
  },
  {
   "cell_type": "markdown",
   "metadata": {},
   "source": [
    "#### `SelectKBest`\n",
    "We need to choose the number of features that we want in the model. Since we don't know the optimal number of features, we select the top k most relevant features with largest values. Then we plot the scores for each variable as a bar graph to get an idea of how many features we should select."
   ]
  },
  {
   "cell_type": "code",
   "execution_count": 24,
   "metadata": {},
   "outputs": [],
   "source": [
    "# ANOVA F-value\n",
    "\n",
    "from sklearn.feature_selection import SelectKBest\n",
    "from sklearn.feature_selection import f_classif\n",
    " \n",
    "def select_features(X_train, y_train):\n",
    "    fs = SelectKBest(score_func=f_classif, k='all')\n",
    "    fs.fit(X_train, y_train)\n",
    "    X_train_fs = fs.transform(X_train)\n",
    "    \n",
    "    return X_train_fs, fs"
   ]
  },
  {
   "cell_type": "code",
   "execution_count": 25,
   "metadata": {},
   "outputs": [],
   "source": [
    "# feature selection\n",
    "X_train_fs, fs = select_features(X_train, y_train)"
   ]
  },
  {
   "cell_type": "code",
   "execution_count": 26,
   "metadata": {},
   "outputs": [
    {
     "data": {
      "text/plain": [
       "<BarContainer object of 34 artists>"
      ]
     },
     "execution_count": 26,
     "metadata": {},
     "output_type": "execute_result"
    },
    {
     "data": {
      "image/png": "[encoded data removed]",
      "text/plain": [
       "<Figure size 720x720 with 1 Axes>"
      ]
     },
     "metadata": {
      "needs_background": "light"
     },
     "output_type": "display_data"
    }
   ],
   "source": [
    "sorted_ = pd.DataFrame({'fs_scores': fs.scores_, 'col_names': col_names})\n",
    "sorted_ = sorted_.sort_values('fs_scores')\n",
    "plt.figure()\n",
    "plt.barh('col_names', 'fs_scores',data=sorted_)"
   ]
  },
  {
   "cell_type": "markdown",
   "metadata": {},
   "source": [
    "Looking at the plot, we can say roughly 10-15 features are more important than the others and set k=15 in the `SelectKBest`."
   ]
  },
  {
   "cell_type": "code",
   "execution_count": 27,
   "metadata": {},
   "outputs": [],
   "source": [
    "anova = SelectKBest(f_classif, k=15)"
   ]
  },
  {
   "cell_type": "markdown",
   "metadata": {},
   "source": [
    "## Model Building"
   ]
  },
  {
   "cell_type": "markdown",
   "metadata": {},
   "source": [
    "We build four different classification models:\n",
    "- Random Forest Classifier\n",
    "- Support Vector Classifier\n",
    "- Decision Tree Classifier\n",
    "- Gradient Boosting Classifier\n",
    "\n",
    "Then we evaluate their performance by computing their accuracy, precision, recall, and F1 score when tested on the test dataset. Before making the comparison, it is essential to perform the hyperparameter optimization of each algorithm. We will use `GridSearchCV()` to test a range of different hyperparameters to find the best set by trying each set of hyperparameters one by one. "
   ]
  },
  {
   "cell_type": "code",
   "execution_count": 28,
   "metadata": {},
   "outputs": [],
   "source": [
    "# Build models with the basic hyperparameters\n",
    "\n",
    "rf = Pipeline([\n",
    "    ('preprocessor', scaler),\n",
    "    ('selector', anova),\n",
    "    ('classifier', RandomForestClassifier(max_depth=2, random_state=42)),\n",
    "])\n",
    "\n",
    "svc = Pipeline([\n",
    "    ('preprocessor', scaler),\n",
    "    ('selector', anova),\n",
    "    ('classifier', SVC(kernel='linear', random_state=42)),\n",
    "])\n",
    "\n",
    "dt = Pipeline([\n",
    "    ('preprocessor', scaler),\n",
    "    ('selector', anova),\n",
    "    ('classifier', DecisionTreeClassifier(max_depth=2, random_state=42)),\n",
    "])\n",
    "\n",
    "xgb = Pipeline([\n",
    "    ('preprocessor', scaler),\n",
    "    ('selector', anova),\n",
    "    ('classifier', GradientBoostingClassifier(max_depth=2, random_state=42)),\n",
    "])"
   ]
  },
  {
   "cell_type": "code",
   "execution_count": null,
   "metadata": {},
   "outputs": [],
   "source": [
    "# Grid search hyperparameters and save them as a dictionary\n",
    "\n",
    "classifiers = {'rf': rf, 'svc': svc, 'dt': dt, 'xgb': xgb}\n",
    "hyperparam_dict = {'rf': {'classifier__n_estimators': [200, 250], \n",
    "                          'classifier__max_features': ['auto', 'log2'],\n",
    "                          'classifier__max_depth' : [4, 6, 8],\n",
    "                          'classifier__min_samples_leaf': [4, 6, 8]}, \n",
    "                   'svc': {'classifier__C': [0.1, 1],\n",
    "                           'classifier__gamma': [0, 1]}, \n",
    "                   'dt': {'classifier__max_depth': [4, 6, 8], \n",
    "                          'classifier__max_features': ['auto', 'log2'], \n",
    "                          'classifier__min_samples_leaf': [4, 6, 8]},\n",
    "                   'xgb': {'classifier__n_estimators': [100, 150], \n",
    "                           'classifier__max_depth': [4, 6, 8], \n",
    "                           'classifier__learning_rate': [0.001, 0.01], \n",
    "                           'classifier__subsample': [0.1, 0.2, 0.3]}\n",
    "                  }"
   ]
  },
  {
   "cell_type": "code",
   "execution_count": null,
   "metadata": {
    "scrolled": false
   },
   "outputs": [],
   "source": [
    "params = {}\n",
    "for name, classifier in classifiers.items():\n",
    "    grid_search = GridSearchCV(classifier, hyperparam_dict[name], cv=5, n_jobs=1, verbose=2)\n",
    "    \n",
    "    grid_search.fit(X_train, y_train)\n",
    "\n",
    "    params[name] = grid_search.best_params_\n",
    "\n",
    "print(params)"
   ]
  },
  {
   "cell_type": "markdown",
   "metadata": {},
   "source": [
    "After determining optimal hyperparameters, we refit the models to the training data with the set of best parameters. "
   ]
  },
  {
   "cell_type": "code",
   "execution_count": 29,
   "metadata": {},
   "outputs": [],
   "source": [
    "# Refit models with best_params_\n",
    "\n",
    "rf_best = Pipeline([\n",
    "    ('preprocessor', scaler),\n",
    "    ('selector', anova),\n",
    "    ('classifier', RandomForestClassifier(max_depth=8, \n",
    "                                          n_estimators=250, \n",
    "                                          max_features='auto', \n",
    "                                          min_samples_leaf=6, \n",
    "                                          random_state=42)),\n",
    "]) \n",
    "\n",
    "svc_best = Pipeline([\n",
    "    ('preprocessor', scaler),\n",
    "    ('selector', anova),\n",
    "    ('classifier', SVC(kernel='linear', \n",
    "                       C=1, \n",
    "                       gamma=1, \n",
    "                       random_state=42, \n",
    "                       probability=True)),\n",
    "])\n",
    "\n",
    "dt_best = Pipeline([\n",
    "    ('preprocessor', scaler),\n",
    "    ('selector', anova),\n",
    "    ('classifier', DecisionTreeClassifier(criterion='gini',\n",
    "                                          max_depth=8, \n",
    "                                          max_features='auto', \n",
    "                                          min_samples_leaf=4, \n",
    "                                          random_state=42)),\n",
    "])\n",
    "\n",
    "xgb_best = Pipeline([\n",
    "    ('preprocessor', scaler),\n",
    "    ('selector', anova),\n",
    "    ('classifier', GradientBoostingClassifier(learning_rate=0.01,\n",
    "                                              max_depth=6,\n",
    "                                              n_estimators=150,\n",
    "                                              subsample=0.3)),\n",
    "])"
   ]
  },
  {
   "cell_type": "code",
   "execution_count": 36,
   "metadata": {},
   "outputs": [],
   "source": [
    "classifiers = {'LogisticRegression': logreg,\n",
    "               'RandomForest': rf_best,\n",
    "               'SVC': svc_best,\n",
    "               'DecisionTree': dt_best,\n",
    "               'GradientBoost': xgb_best\n",
    "      }"
   ]
  },
  {
   "cell_type": "code",
   "execution_count": 37,
   "metadata": {},
   "outputs": [],
   "source": [
    "# Define the classification metrics as a list \n",
    "accuracy = []\n",
    "precision = []\n",
    "recall = []\n",
    "f1 = []\n",
    "\n",
    "# Define the auc results as a DataFrame\n",
    "auc_df = pd.DataFrame(columns=['model', 'fpr','tpr','auc'])\n",
    "\n",
    "for name, clf in classifiers.items():\n",
    "    clf.fit(X_train, y_train)\n",
    "    y_pred = clf.predict(X_test)\n",
    "    \n",
    "    probs = clf.predict_proba(X_test)[::, 1]\n",
    "    \n",
    "    accuracy_score = clf.score(X_test, y_test)\n",
    "    accuracy.append(accuracy_score)\n",
    "    \n",
    "    precision_score = metrics.precision_score(y_test, y_pred, pos_label='stress')\n",
    "    precision.append(precision_score)\n",
    "    \n",
    "    recall_score = metrics.recall_score(y_test, y_pred, pos_label='stress')\n",
    "    recall.append(recall_score)\n",
    "    \n",
    "    f1_score = metrics.f1_score(y_test, y_pred, pos_label='stress')\n",
    "    f1.append(f1_score)\n",
    "    \n",
    "    fpr, tpr, threshold = metrics.roc_curve(y_test, probs, pos_label='stress')\n",
    "    \n",
    "    auc = metrics.roc_auc_score(y_test, probs)\n",
    "    \n",
    "    auc_df = auc_df.append({'model':classifiers.keys(), 'fpr':fpr, 'tpr':tpr, 'auc':auc}, ignore_index=True)\n",
    "    "
   ]
  },
  {
   "cell_type": "code",
   "execution_count": 39,
   "metadata": {
    "scrolled": true
   },
   "outputs": [
    {
     "data": {
      "text/html": [
       "<div>\n",
       "<style scoped>\n",
       "    .dataframe tbody tr th:only-of-type {\n",
       "        vertical-align: middle;\n",
       "    }\n",
       "\n",
       "    .dataframe tbody tr th {\n",
       "        vertical-align: top;\n",
       "    }\n",
       "\n",
       "    .dataframe thead th {\n",
       "        text-align: right;\n",
       "    }\n",
       "</style>\n",
       "<table border=\"1\" class=\"dataframe\">\n",
       "  <thead>\n",
       "    <tr style=\"text-align: right;\">\n",
       "      <th></th>\n",
       "      <th>model</th>\n",
       "      <th>accuracy</th>\n",
       "      <th>precision</th>\n",
       "      <th>recall</th>\n",
       "      <th>f1</th>\n",
       "    </tr>\n",
       "  </thead>\n",
       "  <tbody>\n",
       "    <tr>\n",
       "      <td>0</td>\n",
       "      <td>LogisticRegression</td>\n",
       "      <td>0.693618</td>\n",
       "      <td>0.691002</td>\n",
       "      <td>0.598187</td>\n",
       "      <td>0.641254</td>\n",
       "    </tr>\n",
       "    <tr>\n",
       "      <td>1</td>\n",
       "      <td>RandomForest</td>\n",
       "      <td>0.962114</td>\n",
       "      <td>0.961097</td>\n",
       "      <td>0.955931</td>\n",
       "      <td>0.958507</td>\n",
       "    </tr>\n",
       "    <tr>\n",
       "      <td>2</td>\n",
       "      <td>SVC</td>\n",
       "      <td>0.673200</td>\n",
       "      <td>0.662727</td>\n",
       "      <td>0.582566</td>\n",
       "      <td>0.620066</td>\n",
       "    </tr>\n",
       "    <tr>\n",
       "      <td>3</td>\n",
       "      <td>DecisionTree</td>\n",
       "      <td>0.857150</td>\n",
       "      <td>0.834337</td>\n",
       "      <td>0.858371</td>\n",
       "      <td>0.846184</td>\n",
       "    </tr>\n",
       "    <tr>\n",
       "      <td>4</td>\n",
       "      <td>GradientBoost</td>\n",
       "      <td>0.929641</td>\n",
       "      <td>0.919154</td>\n",
       "      <td>0.927914</td>\n",
       "      <td>0.923513</td>\n",
       "    </tr>\n",
       "  </tbody>\n",
       "</table>\n",
       "</div>"
      ],
      "text/plain": [
       "                model  accuracy  precision    recall        f1\n",
       "0  LogisticRegression  0.693618   0.691002  0.598187  0.641254\n",
       "1        RandomForest  0.962114   0.961097  0.955931  0.958507\n",
       "2                 SVC  0.673200   0.662727  0.582566  0.620066\n",
       "3        DecisionTree  0.857150   0.834337  0.858371  0.846184\n",
       "4       GradientBoost  0.929641   0.919154  0.927914  0.923513"
      ]
     },
     "execution_count": 39,
     "metadata": {},
     "output_type": "execute_result"
    }
   ],
   "source": [
    "# Create DataFrame of classification metrics\n",
    "\n",
    "df_models = pd.DataFrame()\n",
    "df_models['model'] = classifiers.keys()\n",
    "df_models['accuracy'] = accuracy\n",
    "df_models['precision'] = precision\n",
    "df_models['recall'] = recall\n",
    "df_models['f1'] = f1\n",
    "\n",
    "df_models"
   ]
  },
  {
   "cell_type": "markdown",
   "metadata": {},
   "source": [
    "Prediction performances of all trained models were pretty good. However, the RandomForest showed the best overall performance, making it the most reliable estimator for this dataset. \n",
    "\n",
    "SVC had the poorest performance and appeared to be the most time-consuming."
   ]
  },
  {
   "cell_type": "markdown",
   "metadata": {},
   "source": [
    "Next we plot ROC curves of all trained models in a single figure to analyze model performances. \n",
    "\n",
    "ROC plots the TPR against FPR at various thresholds. \n",
    "\n",
    "- TPR -- ratio of negative instances that are correctly classified as negative\n",
    "- FPR -- ratio of negative instances that are incorrectly classified as positive\n",
    "\n",
    "ROC is a probability curve and AUC represents the degree or measure of separability. It tells how much model is capable of distinguishing between classes. The higher the AUC, the better the performance of the model at distinguishing between the positive and negative classes."
   ]
  },
  {
   "cell_type": "code",
   "execution_count": 43,
   "metadata": {},
   "outputs": [
    {
     "data": {
      "text/html": [
       "<div>\n",
       "<style scoped>\n",
       "    .dataframe tbody tr th:only-of-type {\n",
       "        vertical-align: middle;\n",
       "    }\n",
       "\n",
       "    .dataframe tbody tr th {\n",
       "        vertical-align: top;\n",
       "    }\n",
       "\n",
       "    .dataframe thead th {\n",
       "        text-align: right;\n",
       "    }\n",
       "</style>\n",
       "<table border=\"1\" class=\"dataframe\">\n",
       "  <thead>\n",
       "    <tr style=\"text-align: right;\">\n",
       "      <th></th>\n",
       "      <th>fpr</th>\n",
       "      <th>tpr</th>\n",
       "      <th>auc</th>\n",
       "    </tr>\n",
       "    <tr>\n",
       "      <th>model</th>\n",
       "      <th></th>\n",
       "      <th></th>\n",
       "      <th></th>\n",
       "    </tr>\n",
       "  </thead>\n",
       "  <tbody>\n",
       "    <tr>\n",
       "      <td>(LogisticRegression, RandomForest, SVC, DecisionTree, GradientBoost)</td>\n",
       "      <td>[0.0, 0.0, 0.0, 3.0246204101385276e-05, 3.0246...</td>\n",
       "      <td>[0.0, 3.582816810576475e-05, 0.008491275841066...</td>\n",
       "      <td>0.744418</td>\n",
       "    </tr>\n",
       "    <tr>\n",
       "      <td>(LogisticRegression, RandomForest, SVC, DecisionTree, GradientBoost)</td>\n",
       "      <td>[0.0, 0.0, 0.0, 0.0, 0.0, 0.0, 0.0, 0.0, 0.0, ...</td>\n",
       "      <td>[0.0, 0.000143312672423059, 0.0002149690086345...</td>\n",
       "      <td>0.994507</td>\n",
       "    </tr>\n",
       "    <tr>\n",
       "      <td>(LogisticRegression, RandomForest, SVC, DecisionTree, GradientBoost)</td>\n",
       "      <td>[0.0, 0.0, 0.0, 3.0246204101385276e-05, 3.0246...</td>\n",
       "      <td>[0.0, 3.582816810576475e-05, 0.006413242090931...</td>\n",
       "      <td>0.719450</td>\n",
       "    </tr>\n",
       "    <tr>\n",
       "      <td>(LogisticRegression, RandomForest, SVC, DecisionTree, GradientBoost)</td>\n",
       "      <td>[0.0, 0.0001512310205069264, 0.000332708245115...</td>\n",
       "      <td>[0.0, 0.1779943391494393, 0.237433270036903, 0...</td>\n",
       "      <td>0.944308</td>\n",
       "    </tr>\n",
       "    <tr>\n",
       "      <td>(LogisticRegression, RandomForest, SVC, DecisionTree, GradientBoost)</td>\n",
       "      <td>[0.0, 0.0, 0.0, 0.0, 0.0, 0.0, 0.0, 0.0, 0.0, ...</td>\n",
       "      <td>[0.0, 3.582816810576475e-05, 0.000143312672423...</td>\n",
       "      <td>0.984802</td>\n",
       "    </tr>\n",
       "  </tbody>\n",
       "</table>\n",
       "</div>"
      ],
      "text/plain": [
       "                                                                                                  fpr  \\\n",
       "model                                                                                                   \n",
       "(LogisticRegression, RandomForest, SVC, Decisio...  [0.0, 0.0, 0.0, 3.0246204101385276e-05, 3.0246...   \n",
       "(LogisticRegression, RandomForest, SVC, Decisio...  [0.0, 0.0, 0.0, 0.0, 0.0, 0.0, 0.0, 0.0, 0.0, ...   \n",
       "(LogisticRegression, RandomForest, SVC, Decisio...  [0.0, 0.0, 0.0, 3.0246204101385276e-05, 3.0246...   \n",
       "(LogisticRegression, RandomForest, SVC, Decisio...  [0.0, 0.0001512310205069264, 0.000332708245115...   \n",
       "(LogisticRegression, RandomForest, SVC, Decisio...  [0.0, 0.0, 0.0, 0.0, 0.0, 0.0, 0.0, 0.0, 0.0, ...   \n",
       "\n",
       "                                                                                                  tpr  \\\n",
       "model                                                                                                   \n",
       "(LogisticRegression, RandomForest, SVC, Decisio...  [0.0, 3.582816810576475e-05, 0.008491275841066...   \n",
       "(LogisticRegression, RandomForest, SVC, Decisio...  [0.0, 0.000143312672423059, 0.0002149690086345...   \n",
       "(LogisticRegression, RandomForest, SVC, Decisio...  [0.0, 3.582816810576475e-05, 0.006413242090931...   \n",
       "(LogisticRegression, RandomForest, SVC, Decisio...  [0.0, 0.1779943391494393, 0.237433270036903, 0...   \n",
       "(LogisticRegression, RandomForest, SVC, Decisio...  [0.0, 3.582816810576475e-05, 0.000143312672423...   \n",
       "\n",
       "                                                         auc  \n",
       "model                                                         \n",
       "(LogisticRegression, RandomForest, SVC, Decisio...  0.744418  \n",
       "(LogisticRegression, RandomForest, SVC, Decisio...  0.994507  \n",
       "(LogisticRegression, RandomForest, SVC, Decisio...  0.719450  \n",
       "(LogisticRegression, RandomForest, SVC, Decisio...  0.944308  \n",
       "(LogisticRegression, RandomForest, SVC, Decisio...  0.984802  "
      ]
     },
     "execution_count": 43,
     "metadata": {},
     "output_type": "execute_result"
    }
   ],
   "source": [
    "# Set model names as index\n",
    "auc_df.set_index('model', inplace=True)\n",
    "auc_df"
   ]
  },
  {
   "cell_type": "code",
   "execution_count": 54,
   "metadata": {},
   "outputs": [
    {
     "data": {
      "text/html": [
       "<div>\n",
       "<style scoped>\n",
       "    .dataframe tbody tr th:only-of-type {\n",
       "        vertical-align: middle;\n",
       "    }\n",
       "\n",
       "    .dataframe tbody tr th {\n",
       "        vertical-align: top;\n",
       "    }\n",
       "\n",
       "    .dataframe thead th {\n",
       "        text-align: right;\n",
       "    }\n",
       "</style>\n",
       "<table border=\"1\" class=\"dataframe\">\n",
       "  <thead>\n",
       "    <tr style=\"text-align: right;\">\n",
       "      <th></th>\n",
       "      <th>fpr</th>\n",
       "      <th>tpr</th>\n",
       "      <th>auc</th>\n",
       "    </tr>\n",
       "    <tr>\n",
       "      <th>model</th>\n",
       "      <th></th>\n",
       "      <th></th>\n",
       "      <th></th>\n",
       "    </tr>\n",
       "  </thead>\n",
       "  <tbody>\n",
       "    <tr>\n",
       "      <td>LogisticRegression (Baseline)</td>\n",
       "      <td>[0.0, 0.0, 0.0, 3.0246204101385276e-05, 3.0246...</td>\n",
       "      <td>[0.0, 3.582816810576475e-05, 0.008491275841066...</td>\n",
       "      <td>0.744418</td>\n",
       "    </tr>\n",
       "    <tr>\n",
       "      <td>RandomForest</td>\n",
       "      <td>[0.0, 0.0, 0.0, 0.0, 0.0, 0.0, 0.0, 0.0, 0.0, ...</td>\n",
       "      <td>[0.0, 0.000143312672423059, 0.0002149690086345...</td>\n",
       "      <td>0.994507</td>\n",
       "    </tr>\n",
       "    <tr>\n",
       "      <td>SVC</td>\n",
       "      <td>[0.0, 0.0, 0.0, 3.0246204101385276e-05, 3.0246...</td>\n",
       "      <td>[0.0, 3.582816810576475e-05, 0.006413242090931...</td>\n",
       "      <td>0.719450</td>\n",
       "    </tr>\n",
       "    <tr>\n",
       "      <td>DecisionTree</td>\n",
       "      <td>[0.0, 0.0001512310205069264, 0.000332708245115...</td>\n",
       "      <td>[0.0, 0.1779943391494393, 0.237433270036903, 0...</td>\n",
       "      <td>0.944308</td>\n",
       "    </tr>\n",
       "    <tr>\n",
       "      <td>GradientBoost</td>\n",
       "      <td>[0.0, 0.0, 0.0, 0.0, 0.0, 0.0, 0.0, 0.0, 0.0, ...</td>\n",
       "      <td>[0.0, 3.582816810576475e-05, 0.000143312672423...</td>\n",
       "      <td>0.984802</td>\n",
       "    </tr>\n",
       "  </tbody>\n",
       "</table>\n",
       "</div>"
      ],
      "text/plain": [
       "                                                                             fpr  \\\n",
       "model                                                                              \n",
       "LogisticRegression (Baseline)  [0.0, 0.0, 0.0, 3.0246204101385276e-05, 3.0246...   \n",
       "RandomForest                   [0.0, 0.0, 0.0, 0.0, 0.0, 0.0, 0.0, 0.0, 0.0, ...   \n",
       "SVC                            [0.0, 0.0, 0.0, 3.0246204101385276e-05, 3.0246...   \n",
       "DecisionTree                   [0.0, 0.0001512310205069264, 0.000332708245115...   \n",
       "GradientBoost                  [0.0, 0.0, 0.0, 0.0, 0.0, 0.0, 0.0, 0.0, 0.0, ...   \n",
       "\n",
       "                                                                             tpr  \\\n",
       "model                                                                              \n",
       "LogisticRegression (Baseline)  [0.0, 3.582816810576475e-05, 0.008491275841066...   \n",
       "RandomForest                   [0.0, 0.000143312672423059, 0.0002149690086345...   \n",
       "SVC                            [0.0, 3.582816810576475e-05, 0.006413242090931...   \n",
       "DecisionTree                   [0.0, 0.1779943391494393, 0.237433270036903, 0...   \n",
       "GradientBoost                  [0.0, 3.582816810576475e-05, 0.000143312672423...   \n",
       "\n",
       "                                    auc  \n",
       "model                                    \n",
       "LogisticRegression (Baseline)  0.744418  \n",
       "RandomForest                   0.994507  \n",
       "SVC                            0.719450  \n",
       "DecisionTree                   0.944308  \n",
       "GradientBoost                  0.984802  "
      ]
     },
     "execution_count": 54,
     "metadata": {},
     "output_type": "execute_result"
    }
   ],
   "source": [
    "auc_df1 = auc_df.reset_index(drop=True)\n",
    "auc_df1['model'] = ['LogisticRegression (Baseline)', 'RandomForest', 'SVC', 'DecisionTree', 'GradientBoost']\n",
    "auc_df1.set_index('model', inplace=True)\n",
    "auc_df1"
   ]
  },
  {
   "cell_type": "code",
   "execution_count": 62,
   "metadata": {},
   "outputs": [
    {
     "data": {
      "image/png": "[encoded data removed]",
      "text/plain": [
       "<Figure size 1080x720 with 1 Axes>"
      ]
     },
     "metadata": {
      "needs_background": "light"
     },
     "output_type": "display_data"
    }
   ],
   "source": [
    "# plot the AUC\n",
    "fig = plt.figure(figsize=(15, 10))\n",
    "\n",
    "for i in auc_df1.index:\n",
    "    plt.plot(auc_df1.loc[i]['fpr'], \n",
    "             auc_df1.loc[i]['tpr'], \n",
    "             label=\"{}, AUC={:.3f}\".format(i, auc_df1.loc[i]['auc']))\n",
    "    \n",
    "plt.plot([0,1], [0,1], color='grey', linestyle='--')\n",
    "\n",
    "plt.xticks(np.arange(0.0, 1.1, step=0.1))\n",
    "plt.xlabel('False Positive Rate', fontsize=14)\n",
    "\n",
    "plt.yticks(np.arange(0.0, 1.1, step=0.1))\n",
    "plt.ylabel('True Positive Rate (Recall)', fontsize=14)\n",
    "\n",
    "plt.title('Receiver Operating Characteristic (ROC) Curve', fontsize=16)\n",
    "plt.legend(prop={'size':13}, loc='lower right')\n",
    "\n",
    "plt.show()"
   ]
  },
  {
   "cell_type": "markdown",
   "metadata": {},
   "source": [
    "As we can see from the plot, the AUC for the Random Forest ROC curve is higher than that for other estimators. Therefore, we can say that random forest did a better job of distinguishing between classes."
   ]
  },
  {
   "cell_type": "markdown",
   "metadata": {},
   "source": [
    "We take a look at the confusion of the Random Forest model. It gives us a holistic view of how well the classification model performed and what kinds of errors it made."
   ]
  },
  {
   "cell_type": "code",
   "execution_count": 66,
   "metadata": {},
   "outputs": [
    {
     "data": {
      "image/png": "[encoded data removed]",
      "text/plain": [
       "<Figure size 288x288 with 1 Axes>"
      ]
     },
     "metadata": {
      "needs_background": "light"
     },
     "output_type": "display_data"
    }
   ],
   "source": [
    "labels = rf_best.classes_\n",
    "\n",
    "fig, ax = plt.subplots(figsize=(4, 4))\n",
    "ax.imshow(cm)\n",
    "ax.grid(False)\n",
    "ax.xaxis.set(ticks=(0, 1), ticklabels=([''] + labels))\n",
    "ax.yaxis.set(ticks=(0, 1), ticklabels=([''] + labels))\n",
    "plt.xlabel('Predicted')\n",
    "plt.ylabel('Actual')\n",
    "ax.set_ylim(1.5, -0.5)\n",
    "for i in range(2):\n",
    "    for j in range(2):\n",
    "        ax.text(j, i, cm[i, j], ha='center', va='center', color='white')\n",
    "plt.show()"
   ]
  },
  {
   "cell_type": "markdown",
   "metadata": {},
   "source": [
    "## Conclusion"
   ]
  },
  {
   "cell_type": "markdown",
   "metadata": {},
   "source": [
    "Overall, the Random forest can get the most balanced trade-off between training costs and accuracy. We can conclude that Random forest is the optimal model to calculate the HRV feature set and predict stress. Hence, the Stress Tracker app will be based on the Random forest model."
   ]
  },
  {
   "cell_type": "code",
   "execution_count": null,
   "metadata": {},
   "outputs": [],
   "source": []
  }
 ],
 "metadata": {
  "kernelspec": {
   "display_name": "Python 3",
   "language": "python",
   "name": "python3"
  },
  "language_info": {
   "codemirror_mode": {
    "name": "ipython",
    "version": 3
   },
   "file_extension": ".py",
   "mimetype": "text/x-python",
   "name": "python",
   "nbconvert_exporter": "python",
   "pygments_lexer": "ipython3",
   "version": "3.6.9"
  }
 },
 "nbformat": 4,
 "nbformat_minor": 2
}
